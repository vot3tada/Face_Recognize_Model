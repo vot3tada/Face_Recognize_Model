{
 "cells": [
  {
   "cell_type": "code",
   "execution_count": 2,
   "id": "initial_id",
   "metadata": {
    "collapsed": true,
    "ExecuteTime": {
     "end_time": "2024-02-26T18:29:11.042345300Z",
     "start_time": "2024-02-26T18:29:10.999345600Z"
    }
   },
   "outputs": [],
   "source": [
    "import cv2\n",
    "from matplotlib import pyplot as plt\n",
    "import numpy as np\n",
    "import random\n",
    "from tensorflow import keras\n",
    "from tensorflow.keras.layers import Dense, Flatten, Dropout, Conv2D, MaxPooling2D\n",
    "from tensorflow.keras.layers import BatchNormalization\n",
    "import os\n",
    "from keras.optimizers.legacy import Adam"
   ]
  },
  {
   "cell_type": "code",
   "outputs": [],
   "source": [
    "# 0 - Angry\n",
    "# 1 - Disgust\n",
    "# 2 - Fear\n",
    "# 3 - Happy\n",
    "# 4 - Sad\n",
    "# 5 - Surprise\n",
    "# 6 - Neutral\n",
    "datasets = ['test', 'train', 'val']\n",
    "moods = {\"0\": \"Angry\", \"1\": \"Disgust\", \"2\": \"Fear\", \"3\": \"Happy\", \"4\": \"Sad\", \"5\": \"Surprise\", \"6\": \"Neutral\"}"
   ],
   "metadata": {
    "collapsed": false,
    "ExecuteTime": {
     "end_time": "2024-02-26T18:29:12.626345900Z",
     "start_time": "2024-02-26T18:29:12.622346Z"
    }
   },
   "id": "6322f150f1058e79",
   "execution_count": 3
  },
  {
   "cell_type": "code",
   "outputs": [
    {
     "name": "stdout",
     "output_type": "stream",
     "text": [
      "./test/0/\n",
      "./test/1/\n",
      "./test/2/\n",
      "./test/3/\n",
      "./test/4/\n",
      "./test/5/\n",
      "./test/6/\n",
      "./train/0/\n",
      "./train/1/\n",
      "./train/2/\n",
      "./train/3/\n",
      "./train/4/\n",
      "./train/5/\n",
      "./train/6/\n",
      "./val/0/\n",
      "./val/1/\n",
      "./val/2/\n",
      "./val/3/\n",
      "./val/4/\n",
      "./val/5/\n",
      "./val/6/\n"
     ]
    }
   ],
   "source": [
    "x_train = []\n",
    "y_train = []\n",
    "for directory in datasets:\n",
    "    for key in moods.keys():\n",
    "        mood = int(key)\n",
    "        path = f'./{directory}/{key}/'\n",
    "        print(path)\n",
    "        onlyfiles = [f for f in os.listdir(path)]\n",
    "        for file in onlyfiles:\n",
    "            x_train.append(cv2.imread(path+file, 0))\n",
    "            y_train.append(mood)\n",
    "for i in range(len(x_train)):\n",
    "    r = random.randint(0, len(x_train) - 1)\n",
    "    x_train[i], x_train[r] = x_train[r], x_train[i]\n",
    "    y_train[i], y_train[r] = y_train[r], y_train[i]\n",
    "    "
   ],
   "metadata": {
    "collapsed": false,
    "ExecuteTime": {
     "end_time": "2024-02-26T18:31:11.215934600Z",
     "start_time": "2024-02-26T18:29:15.109028300Z"
    }
   },
   "id": "8411e8e5a01e0ed5",
   "execution_count": 4
  },
  {
   "cell_type": "code",
   "outputs": [],
   "source": [
    "x_train = np.array(x_train) / 255\n",
    "y_train = np.array(y_train)"
   ],
   "metadata": {
    "collapsed": false,
    "ExecuteTime": {
     "end_time": "2024-02-26T18:31:11.386934800Z",
     "start_time": "2024-02-26T18:31:11.222936Z"
    }
   },
   "id": "65ead7f5ed2478de",
   "execution_count": 5
  },
  {
   "cell_type": "code",
   "outputs": [],
   "source": [
    "y_train = keras.utils.to_categorical(y_train, len(moods.keys()))"
   ],
   "metadata": {
    "collapsed": false,
    "ExecuteTime": {
     "end_time": "2024-02-26T18:31:11.398935200Z",
     "start_time": "2024-02-26T18:31:11.388934600Z"
    }
   },
   "id": "76148a9776b98cb7",
   "execution_count": 6
  },
  {
   "cell_type": "code",
   "outputs": [
    {
     "data": {
      "text/plain": "(35887, 48, 48)"
     },
     "execution_count": 7,
     "metadata": {},
     "output_type": "execute_result"
    }
   ],
   "source": [
    "x_train.shape"
   ],
   "metadata": {
    "collapsed": false,
    "ExecuteTime": {
     "end_time": "2024-02-26T18:31:11.403660800Z",
     "start_time": "2024-02-26T18:31:11.394935200Z"
    }
   },
   "id": "e1346c34150edba4",
   "execution_count": 7
  },
  {
   "cell_type": "code",
   "outputs": [
    {
     "data": {
      "text/plain": "(35887, 7)"
     },
     "execution_count": 8,
     "metadata": {},
     "output_type": "execute_result"
    }
   ],
   "source": [
    "y_train.shape"
   ],
   "metadata": {
    "collapsed": false,
    "ExecuteTime": {
     "end_time": "2024-02-26T18:31:11.404661700Z",
     "start_time": "2024-02-26T18:31:11.399935100Z"
    }
   },
   "id": "950b59497f4c062d",
   "execution_count": 8
  },
  {
   "cell_type": "code",
   "outputs": [
    {
     "name": "stderr",
     "output_type": "stream",
     "text": [
      "2024-02-26 21:31:11.661439: I external/local_xla/xla/stream_executor/cuda/cuda_executor.cc:887] could not open file to read NUMA node: /sys/bus/pci/devices/0000:07:00.0/numa_node\n",
      "Your kernel may have been built without NUMA support.\n",
      "2024-02-26 21:31:11.775271: I external/local_xla/xla/stream_executor/cuda/cuda_executor.cc:887] could not open file to read NUMA node: /sys/bus/pci/devices/0000:07:00.0/numa_node\n",
      "Your kernel may have been built without NUMA support.\n",
      "2024-02-26 21:31:11.775318: I external/local_xla/xla/stream_executor/cuda/cuda_executor.cc:887] could not open file to read NUMA node: /sys/bus/pci/devices/0000:07:00.0/numa_node\n",
      "Your kernel may have been built without NUMA support.\n",
      "2024-02-26 21:31:11.777032: I external/local_xla/xla/stream_executor/cuda/cuda_executor.cc:887] could not open file to read NUMA node: /sys/bus/pci/devices/0000:07:00.0/numa_node\n",
      "Your kernel may have been built without NUMA support.\n",
      "2024-02-26 21:31:11.777069: I external/local_xla/xla/stream_executor/cuda/cuda_executor.cc:887] could not open file to read NUMA node: /sys/bus/pci/devices/0000:07:00.0/numa_node\n",
      "Your kernel may have been built without NUMA support.\n",
      "2024-02-26 21:31:11.777091: I external/local_xla/xla/stream_executor/cuda/cuda_executor.cc:887] could not open file to read NUMA node: /sys/bus/pci/devices/0000:07:00.0/numa_node\n",
      "Your kernel may have been built without NUMA support.\n",
      "2024-02-26 21:31:11.958011: I external/local_xla/xla/stream_executor/cuda/cuda_executor.cc:887] could not open file to read NUMA node: /sys/bus/pci/devices/0000:07:00.0/numa_node\n",
      "Your kernel may have been built without NUMA support.\n",
      "2024-02-26 21:31:11.958069: I external/local_xla/xla/stream_executor/cuda/cuda_executor.cc:887] could not open file to read NUMA node: /sys/bus/pci/devices/0000:07:00.0/numa_node\n",
      "Your kernel may have been built without NUMA support.\n",
      "2024-02-26 21:31:11.958084: I tensorflow/core/common_runtime/gpu/gpu_device.cc:2022] Could not identify NUMA node of platform GPU id 0, defaulting to 0.  Your kernel may not have been built with NUMA support.\n",
      "2024-02-26 21:31:11.958129: I external/local_xla/xla/stream_executor/cuda/cuda_executor.cc:887] could not open file to read NUMA node: /sys/bus/pci/devices/0000:07:00.0/numa_node\n",
      "Your kernel may have been built without NUMA support.\n",
      "2024-02-26 21:31:11.958147: I tensorflow/core/common_runtime/gpu/gpu_device.cc:1929] Created device /job:localhost/replica:0/task:0/device:GPU:0 with 5577 MB memory:  -> device: 0, name: NVIDIA GeForce RTX 4060, pci bus id: 0000:07:00.0, compute capability: 8.9\n"
     ]
    }
   ],
   "source": [
    "model = keras.Sequential([\n",
    "    Conv2D(32, (3, 3), padding='same', activation='relu', input_shape=(48, 48, 1)),\n",
    "    Conv2D(64, (3, 3), padding='same', activation='relu'),\n",
    "    BatchNormalization(),\n",
    "    MaxPooling2D((2, 2)),\n",
    "    Dropout(0.25),\n",
    "    Conv2D(128, (3, 3), padding='same', activation='relu'),\n",
    "    Conv2D(256, (3, 3), padding='same', activation='relu'),\n",
    "    BatchNormalization(),\n",
    "    MaxPooling2D((2, 2)),\n",
    "    Dropout(0.25),\n",
    "    Flatten(),\n",
    "    Dense(1024, activation='relu'),\n",
    "    Dense(len(moods.keys()), activation='softmax')\n",
    "])"
   ],
   "metadata": {
    "collapsed": false,
    "ExecuteTime": {
     "end_time": "2024-02-26T18:31:12.204659600Z",
     "start_time": "2024-02-26T18:31:11.404661700Z"
    }
   },
   "id": "4e5ca99eefebe57",
   "execution_count": 9
  },
  {
   "cell_type": "code",
   "outputs": [],
   "source": [
    "model.compile(optimizer=Adam(learning_rate=0.0001, decay=1e-6),\n",
    "              loss=['categorical_crossentropy'],\n",
    "              metrics=['accuracy'])"
   ],
   "metadata": {
    "collapsed": false,
    "ExecuteTime": {
     "end_time": "2024-02-26T18:31:12.205659800Z",
     "start_time": "2024-02-26T18:31:12.194662300Z"
    }
   },
   "id": "183928c61b455f0e",
   "execution_count": 10
  },
  {
   "cell_type": "code",
   "outputs": [
    {
     "name": "stdout",
     "output_type": "stream",
     "text": [
      "Epoch 1/60\n"
     ]
    },
    {
     "name": "stderr",
     "output_type": "stream",
     "text": [
      "2024-02-26 21:31:12.903091: E tensorflow/core/grappler/optimizers/meta_optimizer.cc:961] layout failed: INVALID_ARGUMENT: Size of values 0 does not match size of permutation 4 @ fanin shape insequential/dropout/dropout/SelectV2-2-TransposeNHWCToNCHW-LayoutOptimizer\n",
      "2024-02-26 21:31:12.985497: I external/local_xla/xla/stream_executor/cuda/cuda_dnn.cc:454] Loaded cuDNN version 8904\n",
      "2024-02-26 21:31:13.148125: I external/local_tsl/tsl/platform/default/subprocess.cc:304] Start cannot spawn child process: No such file or directory\n",
      "2024-02-26 21:31:13.526495: I external/local_tsl/tsl/platform/default/subprocess.cc:304] Start cannot spawn child process: No such file or directory\n"
     ]
    },
    {
     "name": "stdout",
     "output_type": "stream",
     "text": [
      "898/898 [==============================] - 22s 21ms/step - loss: 1.7211 - accuracy: 0.3674 - val_loss: 1.4813 - val_accuracy: 0.4337\n",
      "Epoch 2/60\n",
      "898/898 [==============================] - 18s 20ms/step - loss: 1.3656 - accuracy: 0.4750 - val_loss: 1.3567 - val_accuracy: 0.4787\n",
      "Epoch 3/60\n",
      "898/898 [==============================] - 18s 20ms/step - loss: 1.1775 - accuracy: 0.5570 - val_loss: 1.2733 - val_accuracy: 0.5320\n",
      "Epoch 4/60\n",
      "898/898 [==============================] - 18s 20ms/step - loss: 0.9655 - accuracy: 0.6439 - val_loss: 1.3078 - val_accuracy: 0.5369\n",
      "Epoch 5/60\n",
      "898/898 [==============================] - 18s 20ms/step - loss: 0.6850 - accuracy: 0.7549 - val_loss: 1.2928 - val_accuracy: 0.5702\n",
      "Epoch 6/60\n",
      "898/898 [==============================] - 18s 20ms/step - loss: 0.4001 - accuracy: 0.8682 - val_loss: 1.4328 - val_accuracy: 0.5745\n",
      "Epoch 7/60\n",
      "898/898 [==============================] - 19s 21ms/step - loss: 0.2115 - accuracy: 0.9373 - val_loss: 1.5863 - val_accuracy: 0.5830\n",
      "Epoch 8/60\n",
      "898/898 [==============================] - 19s 21ms/step - loss: 0.1264 - accuracy: 0.9691 - val_loss: 1.6502 - val_accuracy: 0.5880\n",
      "Epoch 9/60\n",
      "898/898 [==============================] - 18s 21ms/step - loss: 0.0911 - accuracy: 0.9793 - val_loss: 1.8593 - val_accuracy: 0.5722\n",
      "Epoch 10/60\n",
      "898/898 [==============================] - 18s 21ms/step - loss: 0.0885 - accuracy: 0.9812 - val_loss: 1.8426 - val_accuracy: 0.5815\n",
      "Epoch 11/60\n",
      "898/898 [==============================] - 18s 21ms/step - loss: 0.0788 - accuracy: 0.9844 - val_loss: 1.9173 - val_accuracy: 0.5936\n",
      "Epoch 12/60\n",
      "898/898 [==============================] - 18s 20ms/step - loss: 0.0778 - accuracy: 0.9839 - val_loss: 2.0907 - val_accuracy: 0.5730\n",
      "Epoch 13/60\n",
      "898/898 [==============================] - 18s 21ms/step - loss: 0.0655 - accuracy: 0.9869 - val_loss: 2.1716 - val_accuracy: 0.5727\n",
      "Epoch 14/60\n",
      "898/898 [==============================] - 18s 20ms/step - loss: 0.0607 - accuracy: 0.9877 - val_loss: 2.1712 - val_accuracy: 0.5794\n",
      "Epoch 15/60\n",
      "898/898 [==============================] - 18s 21ms/step - loss: 0.0594 - accuracy: 0.9877 - val_loss: 2.3109 - val_accuracy: 0.5790\n",
      "Epoch 16/60\n",
      "898/898 [==============================] - 19s 21ms/step - loss: 0.0551 - accuracy: 0.9884 - val_loss: 2.3492 - val_accuracy: 0.5848\n",
      "Epoch 17/60\n",
      "898/898 [==============================] - 19s 21ms/step - loss: 0.0481 - accuracy: 0.9906 - val_loss: 2.3055 - val_accuracy: 0.5897\n",
      "Epoch 18/60\n",
      "898/898 [==============================] - 19s 21ms/step - loss: 0.0401 - accuracy: 0.9915 - val_loss: 2.3626 - val_accuracy: 0.5865\n",
      "Epoch 19/60\n",
      "898/898 [==============================] - 18s 21ms/step - loss: 0.0428 - accuracy: 0.9919 - val_loss: 2.4224 - val_accuracy: 0.5716\n",
      "Epoch 20/60\n",
      "898/898 [==============================] - 18s 20ms/step - loss: 0.0409 - accuracy: 0.9916 - val_loss: 2.3351 - val_accuracy: 0.5814\n",
      "Epoch 21/60\n",
      "898/898 [==============================] - 18s 20ms/step - loss: 0.0414 - accuracy: 0.9907 - val_loss: 2.4586 - val_accuracy: 0.5750\n",
      "Epoch 22/60\n",
      "898/898 [==============================] - 18s 20ms/step - loss: 0.0387 - accuracy: 0.9927 - val_loss: 2.2618 - val_accuracy: 0.5826\n",
      "Epoch 23/60\n",
      "898/898 [==============================] - 18s 20ms/step - loss: 0.0335 - accuracy: 0.9928 - val_loss: 2.5442 - val_accuracy: 0.5814\n",
      "Epoch 24/60\n",
      "898/898 [==============================] - 18s 20ms/step - loss: 0.0357 - accuracy: 0.9922 - val_loss: 2.2453 - val_accuracy: 0.5846\n",
      "Epoch 25/60\n",
      "898/898 [==============================] - 18s 20ms/step - loss: 0.0299 - accuracy: 0.9930 - val_loss: 2.3682 - val_accuracy: 0.5814\n",
      "Epoch 26/60\n",
      "898/898 [==============================] - 18s 20ms/step - loss: 0.0299 - accuracy: 0.9935 - val_loss: 2.8554 - val_accuracy: 0.5839\n",
      "Epoch 27/60\n",
      "898/898 [==============================] - 18s 20ms/step - loss: 0.0258 - accuracy: 0.9945 - val_loss: 2.9546 - val_accuracy: 0.5768\n",
      "Epoch 28/60\n",
      "898/898 [==============================] - 18s 20ms/step - loss: 0.0268 - accuracy: 0.9943 - val_loss: 2.8309 - val_accuracy: 0.5840\n",
      "Epoch 29/60\n",
      "898/898 [==============================] - 17s 19ms/step - loss: 0.0263 - accuracy: 0.9939 - val_loss: 3.2166 - val_accuracy: 0.5751\n",
      "Epoch 30/60\n",
      "898/898 [==============================] - 17s 19ms/step - loss: 0.0274 - accuracy: 0.9943 - val_loss: 2.8522 - val_accuracy: 0.5809\n",
      "Epoch 31/60\n",
      "898/898 [==============================] - 17s 19ms/step - loss: 0.0252 - accuracy: 0.9944 - val_loss: 2.9371 - val_accuracy: 0.5822\n",
      "Epoch 32/60\n",
      "898/898 [==============================] - 17s 19ms/step - loss: 0.0232 - accuracy: 0.9946 - val_loss: 3.0791 - val_accuracy: 0.5834\n",
      "Epoch 33/60\n",
      "898/898 [==============================] - 17s 19ms/step - loss: 0.0281 - accuracy: 0.9931 - val_loss: 2.8168 - val_accuracy: 0.5802\n",
      "Epoch 34/60\n",
      "898/898 [==============================] - 17s 19ms/step - loss: 0.0253 - accuracy: 0.9935 - val_loss: 3.6463 - val_accuracy: 0.5776\n",
      "Epoch 35/60\n",
      "898/898 [==============================] - 17s 19ms/step - loss: 0.0233 - accuracy: 0.9939 - val_loss: 3.2846 - val_accuracy: 0.5692\n",
      "Epoch 36/60\n",
      "898/898 [==============================] - 17s 19ms/step - loss: 0.0185 - accuracy: 0.9946 - val_loss: 3.1275 - val_accuracy: 0.5834\n",
      "Epoch 37/60\n",
      "898/898 [==============================] - 17s 19ms/step - loss: 0.0166 - accuracy: 0.9953 - val_loss: 2.8811 - val_accuracy: 0.5826\n",
      "Epoch 38/60\n",
      "898/898 [==============================] - 17s 19ms/step - loss: 0.0226 - accuracy: 0.9945 - val_loss: 3.0438 - val_accuracy: 0.5886\n",
      "Epoch 39/60\n",
      "898/898 [==============================] - 17s 19ms/step - loss: 0.0211 - accuracy: 0.9940 - val_loss: 3.2593 - val_accuracy: 0.5795\n",
      "Epoch 40/60\n",
      "898/898 [==============================] - 18s 20ms/step - loss: 0.0181 - accuracy: 0.9949 - val_loss: 3.7387 - val_accuracy: 0.5814\n",
      "Epoch 41/60\n",
      "898/898 [==============================] - 18s 20ms/step - loss: 0.0145 - accuracy: 0.9954 - val_loss: 3.3525 - val_accuracy: 0.5871\n",
      "Epoch 42/60\n",
      "898/898 [==============================] - 18s 20ms/step - loss: 0.0166 - accuracy: 0.9953 - val_loss: 3.0083 - val_accuracy: 0.5911\n",
      "Epoch 43/60\n",
      "898/898 [==============================] - 18s 20ms/step - loss: 0.0172 - accuracy: 0.9948 - val_loss: 2.8745 - val_accuracy: 0.5730\n",
      "Epoch 44/60\n",
      "898/898 [==============================] - 18s 20ms/step - loss: 0.0197 - accuracy: 0.9947 - val_loss: 3.6103 - val_accuracy: 0.5823\n",
      "Epoch 45/60\n",
      "898/898 [==============================] - 18s 20ms/step - loss: 0.0155 - accuracy: 0.9954 - val_loss: 4.1916 - val_accuracy: 0.5776\n",
      "Epoch 46/60\n",
      "898/898 [==============================] - 18s 20ms/step - loss: 0.0163 - accuracy: 0.9950 - val_loss: 3.1575 - val_accuracy: 0.5802\n",
      "Epoch 47/60\n",
      "898/898 [==============================] - 19s 21ms/step - loss: 0.0169 - accuracy: 0.9954 - val_loss: 3.8002 - val_accuracy: 0.5782\n",
      "Epoch 48/60\n",
      "898/898 [==============================] - 18s 20ms/step - loss: 0.0147 - accuracy: 0.9950 - val_loss: 3.5702 - val_accuracy: 0.5869\n",
      "Epoch 49/60\n",
      "898/898 [==============================] - 18s 20ms/step - loss: 0.0167 - accuracy: 0.9942 - val_loss: 4.3334 - val_accuracy: 0.5789\n",
      "Epoch 50/60\n",
      "898/898 [==============================] - 18s 20ms/step - loss: 0.0153 - accuracy: 0.9955 - val_loss: 3.1168 - val_accuracy: 0.5860\n",
      "Epoch 51/60\n",
      "898/898 [==============================] - 18s 20ms/step - loss: 0.0157 - accuracy: 0.9947 - val_loss: 3.7748 - val_accuracy: 0.5779\n",
      "Epoch 52/60\n",
      "898/898 [==============================] - 17s 19ms/step - loss: 0.0123 - accuracy: 0.9959 - val_loss: 3.0476 - val_accuracy: 0.5737\n",
      "Epoch 53/60\n",
      "898/898 [==============================] - 17s 19ms/step - loss: 0.0147 - accuracy: 0.9953 - val_loss: 3.8749 - val_accuracy: 0.5816\n",
      "Epoch 54/60\n",
      "898/898 [==============================] - 18s 20ms/step - loss: 0.0123 - accuracy: 0.9955 - val_loss: 4.4489 - val_accuracy: 0.5744\n",
      "Epoch 55/60\n",
      "898/898 [==============================] - 18s 20ms/step - loss: 0.0153 - accuracy: 0.9960 - val_loss: 3.8016 - val_accuracy: 0.5726\n",
      "Epoch 56/60\n",
      "898/898 [==============================] - 18s 20ms/step - loss: 0.0156 - accuracy: 0.9951 - val_loss: 4.1322 - val_accuracy: 0.5802\n",
      "Epoch 57/60\n",
      "898/898 [==============================] - 18s 21ms/step - loss: 0.0176 - accuracy: 0.9950 - val_loss: 3.6884 - val_accuracy: 0.5823\n",
      "Epoch 58/60\n",
      "898/898 [==============================] - 18s 20ms/step - loss: 0.0158 - accuracy: 0.9953 - val_loss: 3.9573 - val_accuracy: 0.5522\n",
      "Epoch 59/60\n",
      "898/898 [==============================] - 18s 20ms/step - loss: 0.0169 - accuracy: 0.9947 - val_loss: 3.6980 - val_accuracy: 0.5748\n",
      "Epoch 60/60\n",
      "898/898 [==============================] - 18s 20ms/step - loss: 0.0144 - accuracy: 0.9954 - val_loss: 3.5124 - val_accuracy: 0.5782\n"
     ]
    }
   ],
   "source": [
    "his = model.fit(x_train, y_train, batch_size=32, epochs=60, validation_split=0.2)"
   ],
   "metadata": {
    "collapsed": false,
    "ExecuteTime": {
     "end_time": "2024-02-26T18:49:02.583175Z",
     "start_time": "2024-02-26T18:31:12.202659500Z"
    }
   },
   "id": "4837e19745d824e4",
   "execution_count": 11
  },
  {
   "cell_type": "code",
   "outputs": [
    {
     "data": {
      "text/plain": "<Figure size 640x480 with 1 Axes>",
      "image/png": "[encoded data removed]"
     },
     "metadata": {},
     "output_type": "display_data"
    },
    {
     "name": "stdout",
     "output_type": "stream",
     "text": [
      "1/1 [==============================] - 0s 12ms/step\n",
      "[3.438025331092831e-08, 2.5943763671122493e-15, 4.638305384219166e-08, 1.67799191208573e-10, 1.9414499521919204e-11, 0.9999998807907104, 1.166153653676949e-12]\n",
      "5\n",
      "Surprise\n",
      "Surprise\n"
     ]
    }
   ],
   "source": [
    "index = 12005\n",
    "test = x_train[index]\n",
    "plt.imshow(test)\n",
    "plt.show()\n",
    "test = np.expand_dims(test, axis=0)\n",
    "p = model.predict(test).tolist()[0]\n",
    "print(p)\n",
    "photo_mood = p.index(max(p))\n",
    "val_mood = y_train[index].tolist()\n",
    "y_mood = val_mood.index(max(val_mood))\n",
    "print(photo_mood)\n",
    "print(moods[str(photo_mood)])\n",
    "print(moods[str(y_mood)])"
   ],
   "metadata": {
    "collapsed": false,
    "ExecuteTime": {
     "end_time": "2024-02-26T18:52:26.042101400Z",
     "start_time": "2024-02-26T18:52:25.888070400Z"
    }
   },
   "id": "2af8d37c7919eac8",
   "execution_count": 17
  },
  {
   "cell_type": "code",
   "outputs": [
    {
     "name": "stdout",
     "output_type": "stream",
     "text": [
      "INFO:tensorflow:Assets written to: ./model_dir_1/model.tf/assets\n"
     ]
    },
    {
     "name": "stderr",
     "output_type": "stream",
     "text": [
      "INFO:tensorflow:Assets written to: ./model_dir_1/model.tf/assets\n"
     ]
    }
   ],
   "source": [
    "model.save('./model_dir_1/model.tf')"
   ],
   "metadata": {
    "collapsed": false,
    "ExecuteTime": {
     "end_time": "2024-02-26T18:49:04.455498800Z",
     "start_time": "2024-02-26T18:49:02.891517300Z"
    }
   },
   "id": "806f42ed94242ac5",
   "execution_count": 13
  },
  {
   "cell_type": "code",
   "outputs": [],
   "source": [],
   "metadata": {
    "collapsed": false
   },
   "id": "f19a79406528aa69"
  }
 ],
 "metadata": {
  "kernelspec": {
   "display_name": "Python 3",
   "language": "python",
   "name": "python3"
  },
  "language_info": {
   "codemirror_mode": {
    "name": "ipython",
    "version": 2
   },
   "file_extension": ".py",
   "mimetype": "text/x-python",
   "name": "python",
   "nbconvert_exporter": "python",
   "pygments_lexer": "ipython2",
   "version": "2.7.6"
  }
 },
 "nbformat": 4,
 "nbformat_minor": 5
}
