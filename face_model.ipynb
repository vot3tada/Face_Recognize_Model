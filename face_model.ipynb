{
 "cells": [
  {
   "cell_type": "code",
   "execution_count": 25,
   "id": "initial_id",
   "metadata": {
    "collapsed": true,
    "ExecuteTime": {
     "end_time": "2024-02-24T18:17:32.943034700Z",
     "start_time": "2024-02-24T18:17:32.927034500Z"
    }
   },
   "outputs": [],
   "source": [
    "import cv2\n",
    "from matplotlib import pyplot as plt\n",
    "import numpy as np\n",
    "import random\n",
    "from tensorflow import keras\n",
    "from tensorflow.keras.layers import Dense, Flatten, Dropout, Conv2D, MaxPooling2D\n",
    "from tensorflow.keras.layers import BatchNormalization\n",
    "import os\n",
    "from keras.optimizers.legacy import Adam"
   ]
  },
  {
   "cell_type": "code",
   "outputs": [],
   "source": [
    "# 0 - Angry\n",
    "# 1 - Disgust\n",
    "# 2 - Fear\n",
    "# 3 - Happy\n",
    "# 4 - Sad\n",
    "# 5 - Surprise\n",
    "# 6 - Neutral\n",
    "datasets = ['test', 'train', 'val']\n",
    "moods = {\"0\": \"Angry\", \"1\": \"Disgust\", \"2\": \"Fear\", \"3\": \"Happy\", \"4\": \"Sad\", \"5\": \"Surprise\", \"6\": \"Neutral\"}"
   ],
   "metadata": {
    "collapsed": false,
    "ExecuteTime": {
     "end_time": "2024-02-24T17:49:40.057835300Z",
     "start_time": "2024-02-24T17:49:40.016836200Z"
    }
   },
   "id": "6322f150f1058e79",
   "execution_count": 2
  },
  {
   "cell_type": "code",
   "outputs": [
    {
     "name": "stdout",
     "output_type": "stream",
     "text": [
      "./test/0/\n",
      "./test/1/\n",
      "./test/2/\n",
      "./test/3/\n",
      "./test/4/\n",
      "./test/5/\n",
      "./test/6/\n",
      "./train/0/\n",
      "./train/1/\n",
      "./train/2/\n",
      "./train/3/\n",
      "./train/4/\n",
      "./train/5/\n",
      "./train/6/\n",
      "./val/0/\n",
      "./val/1/\n",
      "./val/2/\n",
      "./val/3/\n",
      "./val/4/\n",
      "./val/5/\n",
      "./val/6/\n"
     ]
    }
   ],
   "source": [
    "x_train = []\n",
    "y_train = []\n",
    "for directory in datasets:\n",
    "    for key in moods.keys():\n",
    "        mood = int(key)\n",
    "        path = f'./{directory}/{key}/'\n",
    "        print(path)\n",
    "        onlyfiles = [f for f in os.listdir(path)]\n",
    "        for file in onlyfiles:\n",
    "            x_train.append(cv2.imread(path+file, 0))\n",
    "            y_train.append(mood)"
   ],
   "metadata": {
    "collapsed": false,
    "ExecuteTime": {
     "end_time": "2024-02-24T17:51:23.956884800Z",
     "start_time": "2024-02-24T17:49:40.359836500Z"
    }
   },
   "id": "8411e8e5a01e0ed5",
   "execution_count": 3
  },
  {
   "cell_type": "code",
   "outputs": [],
   "source": [
    "x_train = np.array(x_train) / 255\n",
    "y_train = np.array(y_train)"
   ],
   "metadata": {
    "collapsed": false,
    "ExecuteTime": {
     "end_time": "2024-02-24T17:51:24.155882200Z",
     "start_time": "2024-02-24T17:51:23.961883700Z"
    }
   },
   "id": "65ead7f5ed2478de",
   "execution_count": 4
  },
  {
   "cell_type": "code",
   "outputs": [],
   "source": [
    "y_train = keras.utils.to_categorical(y_train, len(moods.keys()))"
   ],
   "metadata": {
    "collapsed": false,
    "ExecuteTime": {
     "end_time": "2024-02-24T17:51:24.164882900Z",
     "start_time": "2024-02-24T17:51:24.158881800Z"
    }
   },
   "id": "76148a9776b98cb7",
   "execution_count": 5
  },
  {
   "cell_type": "code",
   "outputs": [
    {
     "data": {
      "text/plain": "(35887, 48, 48)"
     },
     "execution_count": 6,
     "metadata": {},
     "output_type": "execute_result"
    }
   ],
   "source": [
    "x_train.shape"
   ],
   "metadata": {
    "collapsed": false,
    "ExecuteTime": {
     "end_time": "2024-02-24T17:51:24.168883600Z",
     "start_time": "2024-02-24T17:51:24.164882900Z"
    }
   },
   "id": "e1346c34150edba4",
   "execution_count": 6
  },
  {
   "cell_type": "code",
   "outputs": [
    {
     "data": {
      "text/plain": "(35887, 7)"
     },
     "execution_count": 7,
     "metadata": {},
     "output_type": "execute_result"
    }
   ],
   "source": [
    "y_train.shape"
   ],
   "metadata": {
    "collapsed": false,
    "ExecuteTime": {
     "end_time": "2024-02-24T17:51:24.175881600Z",
     "start_time": "2024-02-24T17:51:24.169886500Z"
    }
   },
   "id": "950b59497f4c062d",
   "execution_count": 7
  },
  {
   "cell_type": "code",
   "outputs": [],
   "source": [
    "model = keras.Sequential([\n",
    "    Conv2D(32, (3, 3), padding='same', activation='relu', input_shape=(48, 48, 1)),\n",
    "    Conv2D(64, (3, 3), padding='same', activation='relu'),\n",
    "    BatchNormalization(),\n",
    "    MaxPooling2D((2, 2)),\n",
    "    Dropout(0.25),\n",
    "    Conv2D(128, (3, 3), padding='same', activation='relu'),\n",
    "    Conv2D(256, (3, 3), padding='same', activation='relu'),\n",
    "    BatchNormalization(),\n",
    "    MaxPooling2D((2, 2)),\n",
    "    Dropout(0.25),\n",
    "    Flatten(),\n",
    "    Dense(1024, activation='relu'),\n",
    "    Dense(len(moods.keys()), activation='softmax')\n",
    "])"
   ],
   "metadata": {
    "collapsed": false,
    "ExecuteTime": {
     "end_time": "2024-02-24T18:16:22.312283800Z",
     "start_time": "2024-02-24T18:16:22.232285200Z"
    }
   },
   "id": "4e5ca99eefebe57",
   "execution_count": 23
  },
  {
   "cell_type": "code",
   "outputs": [],
   "source": [
    "model.compile(optimizer=Adam(learning_rate=0.0001, decay=1e-6),\n",
    "              loss=['categorical_crossentropy'],\n",
    "              metrics=['accuracy'])"
   ],
   "metadata": {
    "collapsed": false,
    "ExecuteTime": {
     "end_time": "2024-02-24T18:17:46.856034800Z",
     "start_time": "2024-02-24T18:17:46.844033700Z"
    }
   },
   "id": "183928c61b455f0e",
   "execution_count": 27
  },
  {
   "cell_type": "code",
   "outputs": [
    {
     "name": "stdout",
     "output_type": "stream",
     "text": [
      "Epoch 1/60\n"
     ]
    },
    {
     "name": "stderr",
     "output_type": "stream",
     "text": [
      "2024-02-24 21:17:49.113084: E tensorflow/core/grappler/optimizers/meta_optimizer.cc:961] layout failed: INVALID_ARGUMENT: Size of values 0 does not match size of permutation 4 @ fanin shape insequential_3/dropout_4/dropout/SelectV2-2-TransposeNHWCToNCHW-LayoutOptimizer\n"
     ]
    },
    {
     "name": "stdout",
     "output_type": "stream",
     "text": [
      "898/898 [==============================] - 21s 22ms/step - loss: 1.6787 - accuracy: 0.3918 - val_loss: 1.9852 - val_accuracy: 0.2743\n",
      "Epoch 2/60\n",
      "898/898 [==============================] - 18s 21ms/step - loss: 1.3134 - accuracy: 0.4950 - val_loss: 1.7182 - val_accuracy: 0.3672\n",
      "Epoch 3/60\n",
      "898/898 [==============================] - 19s 21ms/step - loss: 1.1400 - accuracy: 0.5677 - val_loss: 1.8158 - val_accuracy: 0.3541\n",
      "Epoch 4/60\n",
      "898/898 [==============================] - 19s 21ms/step - loss: 0.9374 - accuracy: 0.6521 - val_loss: 1.7746 - val_accuracy: 0.3894\n",
      "Epoch 5/60\n",
      "898/898 [==============================] - 19s 21ms/step - loss: 0.6759 - accuracy: 0.7571 - val_loss: 1.7535 - val_accuracy: 0.4358\n",
      "Epoch 6/60\n",
      "898/898 [==============================] - 19s 21ms/step - loss: 0.4065 - accuracy: 0.8621 - val_loss: 2.2215 - val_accuracy: 0.4093\n",
      "Epoch 7/60\n",
      "898/898 [==============================] - 19s 21ms/step - loss: 0.2241 - accuracy: 0.9329 - val_loss: 3.1040 - val_accuracy: 0.3717\n",
      "Epoch 8/60\n",
      "898/898 [==============================] - 19s 21ms/step - loss: 0.1292 - accuracy: 0.9666 - val_loss: 2.5078 - val_accuracy: 0.4505\n",
      "Epoch 9/60\n",
      "898/898 [==============================] - 19s 21ms/step - loss: 0.0979 - accuracy: 0.9776 - val_loss: 2.5866 - val_accuracy: 0.4384\n",
      "Epoch 10/60\n",
      "898/898 [==============================] - 19s 21ms/step - loss: 0.0832 - accuracy: 0.9821 - val_loss: 3.2695 - val_accuracy: 0.3959\n",
      "Epoch 11/60\n",
      "898/898 [==============================] - 19s 21ms/step - loss: 0.0818 - accuracy: 0.9819 - val_loss: 3.3382 - val_accuracy: 0.4064\n",
      "Epoch 12/60\n",
      "898/898 [==============================] - 19s 21ms/step - loss: 0.0743 - accuracy: 0.9844 - val_loss: 3.3851 - val_accuracy: 0.4111\n",
      "Epoch 13/60\n",
      "898/898 [==============================] - 19s 21ms/step - loss: 0.0631 - accuracy: 0.9876 - val_loss: 3.5494 - val_accuracy: 0.3929\n",
      "Epoch 14/60\n",
      "898/898 [==============================] - 19s 21ms/step - loss: 0.0590 - accuracy: 0.9878 - val_loss: 4.3062 - val_accuracy: 0.3831\n",
      "Epoch 15/60\n",
      "898/898 [==============================] - 19s 21ms/step - loss: 0.0592 - accuracy: 0.9883 - val_loss: 3.3088 - val_accuracy: 0.4164\n",
      "Epoch 16/60\n",
      "898/898 [==============================] - 19s 21ms/step - loss: 0.0509 - accuracy: 0.9893 - val_loss: 4.3605 - val_accuracy: 0.3734\n",
      "Epoch 17/60\n",
      "898/898 [==============================] - 19s 21ms/step - loss: 0.0475 - accuracy: 0.9909 - val_loss: 4.2436 - val_accuracy: 0.4231\n",
      "Epoch 18/60\n",
      "898/898 [==============================] - 19s 21ms/step - loss: 0.0502 - accuracy: 0.9893 - val_loss: 3.7208 - val_accuracy: 0.4029\n",
      "Epoch 19/60\n",
      "898/898 [==============================] - 19s 21ms/step - loss: 0.0396 - accuracy: 0.9913 - val_loss: 4.5642 - val_accuracy: 0.4259\n",
      "Epoch 20/60\n",
      "898/898 [==============================] - 19s 21ms/step - loss: 0.0398 - accuracy: 0.9917 - val_loss: 3.7776 - val_accuracy: 0.4193\n",
      "Epoch 21/60\n",
      "898/898 [==============================] - 19s 21ms/step - loss: 0.0350 - accuracy: 0.9928 - val_loss: 3.9004 - val_accuracy: 0.4266\n",
      "Epoch 22/60\n",
      "898/898 [==============================] - 19s 21ms/step - loss: 0.0352 - accuracy: 0.9927 - val_loss: 5.9664 - val_accuracy: 0.3724\n",
      "Epoch 23/60\n",
      "898/898 [==============================] - 20s 22ms/step - loss: 0.0357 - accuracy: 0.9918 - val_loss: 4.4536 - val_accuracy: 0.4087\n",
      "Epoch 24/60\n",
      "898/898 [==============================] - 19s 21ms/step - loss: 0.0334 - accuracy: 0.9922 - val_loss: 5.6438 - val_accuracy: 0.3526\n",
      "Epoch 25/60\n",
      "898/898 [==============================] - 20s 22ms/step - loss: 0.0307 - accuracy: 0.9927 - val_loss: 4.7480 - val_accuracy: 0.4053\n",
      "Epoch 26/60\n",
      "898/898 [==============================] - 19s 21ms/step - loss: 0.0299 - accuracy: 0.9935 - val_loss: 4.0166 - val_accuracy: 0.3972\n",
      "Epoch 27/60\n",
      "898/898 [==============================] - 20s 22ms/step - loss: 0.0271 - accuracy: 0.9937 - val_loss: 4.5941 - val_accuracy: 0.4320\n",
      "Epoch 28/60\n",
      "898/898 [==============================] - 19s 21ms/step - loss: 0.0265 - accuracy: 0.9936 - val_loss: 4.5399 - val_accuracy: 0.4277\n",
      "Epoch 29/60\n",
      "898/898 [==============================] - 19s 22ms/step - loss: 0.0260 - accuracy: 0.9944 - val_loss: 4.5205 - val_accuracy: 0.3845\n",
      "Epoch 30/60\n",
      "898/898 [==============================] - 19s 22ms/step - loss: 0.0225 - accuracy: 0.9943 - val_loss: 5.1583 - val_accuracy: 0.4191\n",
      "Epoch 31/60\n",
      "898/898 [==============================] - 19s 22ms/step - loss: 0.0236 - accuracy: 0.9939 - val_loss: 4.2498 - val_accuracy: 0.4260\n",
      "Epoch 32/60\n",
      "898/898 [==============================] - 19s 22ms/step - loss: 0.0280 - accuracy: 0.9929 - val_loss: 4.3241 - val_accuracy: 0.4234\n",
      "Epoch 33/60\n",
      "898/898 [==============================] - 19s 22ms/step - loss: 0.0234 - accuracy: 0.9939 - val_loss: 5.1652 - val_accuracy: 0.4096\n",
      "Epoch 34/60\n",
      "898/898 [==============================] - 20s 22ms/step - loss: 0.0196 - accuracy: 0.9951 - val_loss: 7.0045 - val_accuracy: 0.3996\n",
      "Epoch 35/60\n",
      "898/898 [==============================] - 20s 22ms/step - loss: 0.0218 - accuracy: 0.9945 - val_loss: 5.4407 - val_accuracy: 0.3934\n",
      "Epoch 36/60\n",
      "898/898 [==============================] - 20s 22ms/step - loss: 0.0168 - accuracy: 0.9950 - val_loss: 5.1492 - val_accuracy: 0.4192\n",
      "Epoch 37/60\n",
      "898/898 [==============================] - 19s 21ms/step - loss: 0.0230 - accuracy: 0.9939 - val_loss: 5.6100 - val_accuracy: 0.4118\n",
      "Epoch 38/60\n",
      "898/898 [==============================] - 19s 21ms/step - loss: 0.0246 - accuracy: 0.9939 - val_loss: 6.2351 - val_accuracy: 0.4042\n",
      "Epoch 39/60\n",
      "898/898 [==============================] - 19s 21ms/step - loss: 0.0206 - accuracy: 0.9943 - val_loss: 4.9896 - val_accuracy: 0.4030\n",
      "Epoch 40/60\n",
      "898/898 [==============================] - 19s 21ms/step - loss: 0.0178 - accuracy: 0.9955 - val_loss: 7.4355 - val_accuracy: 0.3885\n",
      "Epoch 41/60\n",
      "898/898 [==============================] - 19s 21ms/step - loss: 0.0173 - accuracy: 0.9951 - val_loss: 6.7675 - val_accuracy: 0.3973\n",
      "Epoch 42/60\n",
      "898/898 [==============================] - 19s 21ms/step - loss: 0.0167 - accuracy: 0.9950 - val_loss: 5.7553 - val_accuracy: 0.4035\n",
      "Epoch 43/60\n",
      "898/898 [==============================] - 19s 21ms/step - loss: 0.0198 - accuracy: 0.9942 - val_loss: 7.4805 - val_accuracy: 0.3775\n",
      "Epoch 44/60\n",
      "898/898 [==============================] - 19s 21ms/step - loss: 0.0190 - accuracy: 0.9949 - val_loss: 6.2169 - val_accuracy: 0.3852\n",
      "Epoch 45/60\n",
      "898/898 [==============================] - 19s 21ms/step - loss: 0.0151 - accuracy: 0.9951 - val_loss: 6.8859 - val_accuracy: 0.3901\n",
      "Epoch 46/60\n",
      "898/898 [==============================] - 19s 21ms/step - loss: 0.0149 - accuracy: 0.9954 - val_loss: 7.3645 - val_accuracy: 0.3906\n",
      "Epoch 47/60\n",
      "898/898 [==============================] - 19s 21ms/step - loss: 0.0152 - accuracy: 0.9954 - val_loss: 5.2776 - val_accuracy: 0.4030\n",
      "Epoch 48/60\n",
      "898/898 [==============================] - 19s 21ms/step - loss: 0.0158 - accuracy: 0.9948 - val_loss: 6.7928 - val_accuracy: 0.3858\n",
      "Epoch 49/60\n",
      "898/898 [==============================] - 20s 22ms/step - loss: 0.0143 - accuracy: 0.9957 - val_loss: 4.9421 - val_accuracy: 0.3983\n",
      "Epoch 50/60\n",
      "898/898 [==============================] - 20s 22ms/step - loss: 0.0142 - accuracy: 0.9955 - val_loss: 6.9821 - val_accuracy: 0.3853\n",
      "Epoch 51/60\n",
      "898/898 [==============================] - 20s 22ms/step - loss: 0.0167 - accuracy: 0.9952 - val_loss: 5.8411 - val_accuracy: 0.4039\n",
      "Epoch 52/60\n",
      "898/898 [==============================] - 20s 22ms/step - loss: 0.0111 - accuracy: 0.9960 - val_loss: 7.7509 - val_accuracy: 0.3810\n",
      "Epoch 53/60\n",
      "898/898 [==============================] - 20s 22ms/step - loss: 0.0134 - accuracy: 0.9952 - val_loss: 6.9422 - val_accuracy: 0.3717\n",
      "Epoch 54/60\n",
      "898/898 [==============================] - 19s 21ms/step - loss: 0.0168 - accuracy: 0.9950 - val_loss: 6.7588 - val_accuracy: 0.3984\n",
      "Epoch 55/60\n",
      "898/898 [==============================] - 19s 21ms/step - loss: 0.0158 - accuracy: 0.9948 - val_loss: 5.5794 - val_accuracy: 0.4273\n",
      "Epoch 56/60\n",
      "898/898 [==============================] - 19s 21ms/step - loss: 0.0129 - accuracy: 0.9956 - val_loss: 6.3627 - val_accuracy: 0.3986\n",
      "Epoch 57/60\n",
      "898/898 [==============================] - 19s 21ms/step - loss: 0.0113 - accuracy: 0.9960 - val_loss: 9.7210 - val_accuracy: 0.3681\n",
      "Epoch 58/60\n",
      "898/898 [==============================] - 19s 21ms/step - loss: 0.0123 - accuracy: 0.9956 - val_loss: 6.2734 - val_accuracy: 0.3943\n",
      "Epoch 59/60\n",
      "898/898 [==============================] - 19s 21ms/step - loss: 0.0123 - accuracy: 0.9958 - val_loss: 6.4917 - val_accuracy: 0.3934\n",
      "Epoch 60/60\n",
      "898/898 [==============================] - 19s 21ms/step - loss: 0.0126 - accuracy: 0.9957 - val_loss: 7.6753 - val_accuracy: 0.3853\n"
     ]
    }
   ],
   "source": [
    "his = model.fit(x_train, y_train, batch_size=32, epochs=60, validation_split=0.2)"
   ],
   "metadata": {
    "collapsed": false,
    "ExecuteTime": {
     "end_time": "2024-02-24T18:36:56.287795400Z",
     "start_time": "2024-02-24T18:17:48.264034800Z"
    }
   },
   "id": "4837e19745d824e4",
   "execution_count": 28
  },
  {
   "cell_type": "code",
   "outputs": [
    {
     "data": {
      "text/plain": "<Figure size 640x480 with 1 Axes>",
      "image/png": "[encoded data removed]"
     },
     "metadata": {},
     "output_type": "display_data"
    },
    {
     "name": "stdout",
     "output_type": "stream",
     "text": [
      "1/1 [==============================] - 0s 171ms/step\n",
      "[1.3106184633438254e-17, 4.771480594819273e-22, 3.4186534714058927e-25, 1.0, 4.826771404413124e-28, 4.791078911563277e-18, 1.6679479897846656e-20]\n",
      "3\n",
      "Happy\n",
      "Happy\n"
     ]
    }
   ],
   "source": [
    "index = 34000\n",
    "test = x_train[index]\n",
    "plt.imshow(test)\n",
    "plt.show()\n",
    "test = np.expand_dims(test, axis=0)\n",
    "p = model.predict(test).tolist()[0]\n",
    "print(p)\n",
    "photo_mood = p.index(max(p))\n",
    "val_mood = y_train[index].tolist()\n",
    "y_mood = val_mood.index(max(val_mood))\n",
    "print(photo_mood)\n",
    "print(moods[str(photo_mood)])\n",
    "print(moods[str(y_mood)])"
   ],
   "metadata": {
    "collapsed": false,
    "ExecuteTime": {
     "end_time": "2024-02-24T17:58:01.702241600Z",
     "start_time": "2024-02-24T17:58:01.413100500Z"
    }
   },
   "id": "2af8d37c7919eac8",
   "execution_count": 11
  },
  {
   "cell_type": "code",
   "outputs": [
    {
     "name": "stdout",
     "output_type": "stream",
     "text": [
      "INFO:tensorflow:Assets written to: ./model_dir_1/model.tf/assets\n"
     ]
    },
    {
     "name": "stderr",
     "output_type": "stream",
     "text": [
      "INFO:tensorflow:Assets written to: ./model_dir_1/model.tf/assets\n"
     ]
    }
   ],
   "source": [
    "model.save('./model_dir_1/model.tf')"
   ],
   "metadata": {
    "collapsed": false,
    "ExecuteTime": {
     "end_time": "2024-02-24T18:37:08.320122300Z",
     "start_time": "2024-02-24T18:37:06.724795600Z"
    }
   },
   "id": "806f42ed94242ac5",
   "execution_count": 29
  },
  {
   "cell_type": "code",
   "outputs": [],
   "source": [],
   "metadata": {
    "collapsed": false
   },
   "id": "f19a79406528aa69"
  }
 ],
 "metadata": {
  "kernelspec": {
   "display_name": "Python 3",
   "language": "python",
   "name": "python3"
  },
  "language_info": {
   "codemirror_mode": {
    "name": "ipython",
    "version": 2
   },
   "file_extension": ".py",
   "mimetype": "text/x-python",
   "name": "python",
   "nbconvert_exporter": "python",
   "pygments_lexer": "ipython2",
   "version": "2.7.6"
  }
 },
 "nbformat": 4,
 "nbformat_minor": 5
}
